{
 "cells": [
  {
   "cell_type": "markdown",
   "metadata": {},
   "source": [
    "This is a note for myself on the tag-based error correction program that I coded up (Figure 1). This is inspired from a combination of two works, [circ-seq](http://www.ncbi.nlm.nih.gov/pubmed/24243955) and [safe-seq](http://www.pnas.org/content/108/23/9530).\n",
    "\n",
    "![](indexed_tgirt.png)\n",
    "\n",
    "# Indexed R1R #\n",
    "\n",
    "For a given read 1, the first 13 bases is the index as below.\n",
    "\n",
    "<center>\n",
    "CGA TG[N NNN NNN NNN NNN] TCT GAA CTC CAG TCA CAC TGA TAT CTC GTA TGC CGT CTT CTG CTT GAA AAA AAA AAGG GGG G\n",
    "</center>\n",
    "\n",
    "Reads with same index are grouped together in a dictionary (python).\n",
    "\n",
    "\n",
    "# Concensus base #\n",
    "\n",
    "For a cluster of reads (group), bases at a single position (a column) were extracted, concensus base was predicted using maximum likelihood with priors as Phred quality scores (Q):\n",
    "\n",
    "$$Q = -10 log_{10} P_e$$\n",
    "$$P_e = 10 ^{\\frac{-Q}{10}}$$\n",
    "where $P_e$ is the error probability.\n",
    "\n",
    "For a give position in the read cluster $J$, read $i$, likelihood of identity of the concensus base ($I$) being $b$ given output base ($r$): \n",
    "$$ \n",
    "P(I=b | r_{i, j},Q_{i,j}) \\propto \\left\\{ \\begin{array}{cl}\n",
    "         1 - 10^\\frac{-Q_{i,j}}{10} & \\mbox{if $r_{i,j} = b$};\\\\\n",
    "        10^\\frac{-Q_{i,j}}{10} & \\mbox{if $r_{i,j} \\neq b$}.\\end{array} \\right.\n",
    "$$\n",
    "\n",
    "$$\n",
    "P(I=b | r_{j},Q_{j}) = \\frac{\\prod_i (P(I=b|r_{i, j},Q_{i, j}))}{\\sum_{d \\in \\{A,C,T,G\\}}\\prod_i (P(I=d|r_{i, j},Q_{i, j}))}\n",
    "$$\n",
    "\n",
    "For the following example illutrated with **python**, if a position in a read cluster contains bad sequencing reads [T,A,A,A,A] with Phred scores [7,-,-,-,-]:"
   ]
  },
  {
   "cell_type": "code",
   "execution_count": 5,
   "metadata": {},
   "outputs": [],
   "source": [
    "%matplotlib inline\n",
    "\n",
    "import numpy as np\n",
    "import matplotlib.pyplot as plt\n",
    "import seaborn as sns\n",
    "from scipy.special import logsumexp\n",
    "sns.set_style('white')\n",
    "min_q = 33\n",
    "max_q = 73\n",
    "max_prob = 0.999999\n",
    "acceptable_bases = np.array(['A','C','T','G'], dtype='S1')"
   ]
  },
  {
   "cell_type": "code",
   "execution_count": 8,
   "metadata": {},
   "outputs": [],
   "source": [
    "def probToString(posteriors):\n",
    "    posteriors = np.array(posteriors, dtype=np.float64)\n",
    "    posteriors = np.clip(posteriors,0, max_prob)\n",
    "    quality =  -10 * np.log10(1 - posteriors)\n",
    "    quality = np.array(quality,dtype=np.int8) + 33\n",
    "    quality = np.clip(quality, min_q, max_q)\n",
    "    quality = ''.join(map(chr,quality))\n",
    "    return quality\n",
    "\n",
    "def qualToInt(q):\n",
    "    return ord(q)-33\n",
    "\n",
    "def qual2Prob(base_qual):\n",
    "    '''\n",
    "    Given a q list,\n",
    "    return a list of prob\n",
    "    '''\n",
    "    return np.power(10, np.true_divide(-base_qual,10))\n",
    "\n",
    "def calculatePosterior(column_bases, column_qualities, guess_base):\n",
    "    \n",
    "    # find quality of bases either hit/miss\n",
    "    qual_missed = column_qualities[column_bases!=guess_base] \n",
    "    qual_hit = column_qualities[column_bases==guess_base]\n",
    "    \n",
    "    # calculat probability of observing the events\n",
    "    log_hit_prob = np.sum(np.log(1 - qual2Prob(qual_hit)))\n",
    "    log_missed_prob = np.sum(np.log(np.true_divide(qual2Prob(qual_missed),3)))\n",
    "    log_likelihood = log_hit_prob + log_missed_prob\n",
    "    return log_likelihood"
   ]
  },
  {
   "cell_type": "code",
   "execution_count": 45,
   "metadata": {},
   "outputs": [],
   "source": [
    "column_bases = np.array(list('CCAAAAAGT'))\n",
    "column_qualities = list(')))A--A)A')\n",
    "column_qualities = np.array(list(map(qualToInt, column_qualities)))\n",
    "acceptable_bases = list(set(column_bases))\n",
    "loglikelihoods = [calculatePosterior(column_bases, column_qualities, guess_base) for guess_base in acceptable_bases]"
   ]
  },
  {
   "cell_type": "code",
   "execution_count": 46,
   "metadata": {},
   "outputs": [],
   "source": [
    "log_posteriors = loglikelihoods - logsumexp(loglikelihoods)"
   ]
  },
  {
   "cell_type": "code",
   "execution_count": 47,
   "metadata": {},
   "outputs": [
    {
     "data": {
      "text/plain": [
       "<matplotlib.axes._subplots.AxesSubplot at 0x117bfc390>"
      ]
     },
     "execution_count": 47,
     "metadata": {},
     "output_type": "execute_result"
    },
    {
     "data": {
      "image/png": "[encoded data removed]",
      "text/plain": [
       "<Figure size 432x288 with 1 Axes>"
      ]
     },
     "metadata": {},
     "output_type": "display_data"
    }
   ],
   "source": [
    "sns.barplot(x=acceptable_bases, y = np.exp(log_posteriors))"
   ]
  },
  {
   "cell_type": "code",
   "execution_count": 48,
   "metadata": {},
   "outputs": [
    {
     "data": {
      "text/plain": [
       "array([  9.99999993e-01,   3.55511496e-10,   6.65792687e-09,\n",
       "         2.23188987e-11])"
      ]
     },
     "execution_count": 48,
     "metadata": {},
     "output_type": "execute_result"
    }
   ],
   "source": [
    "np.exp(log_posteriors)"
   ]
  }
 ],
 "metadata": {
  "kernelspec": {
   "display_name": "miniconda3",
   "language": "python",
   "name": "miniconda3"
  },
  "language_info": {
   "codemirror_mode": {
    "name": "ipython",
    "version": 3
   },
   "file_extension": ".py",
   "mimetype": "text/x-python",
   "name": "python",
   "nbconvert_exporter": "python",
   "pygments_lexer": "ipython3",
   "version": "3.6.6"
  }
 },
 "nbformat": 4,
 "nbformat_minor": 1
}
